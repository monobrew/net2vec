{
 "cells": [
  {
   "cell_type": "raw",
   "id": "fc639a89-b317-4638-a2bd-535fcff5c4fb",
   "metadata": {
    "vscode": {
     "languageId": "raw"
    }
   },
   "source": [
    "# Zainstalować pythona 3.7\n",
    "...\n",
    "# Utworzyć wirtualne środowisko w katalogu\n",
    "python3.7 -m venv venv\n",
    "\n",
    "# Aktywować środowisko\n",
    "# Linux\n",
    "source venv/bin/activate\n",
    "# Windows\n",
    ".\\venv\\Scripts\\activate\n",
    "\n",
    "# Instalacja odpowiednich bibliotek\n",
    "pip3.7 install tensorflow==1.15.0 protobuf==3.19.0 matplotlib scipy networkx\n",
    "\n",
    "# Potrzebne są 3 pliki train.tfrecord test.tfrecords i eval.tfrecords\n",
    "python3.7 samples.py -N <liczba sampli> -o <nazwa pliku wyjściowego>\n",
    "\n",
    "# Należy najpierw uruchomić gnn.py\n",
    "python3.7 gnn.py -I <liczba iteracji>\n",
    "\n",
    "# Potem uruchomić eval.py\n",
    "python3.7 eval.py -I <liczba iteracji>"
   ]
  },
  {
   "cell_type": "code",
   "execution_count": 1,
   "id": "942ad314-b33a-4551-9699-cdb3bc1ace5b",
   "metadata": {
    "tags": []
   },
   "outputs": [
    {
     "name": "stdout",
     "output_type": "stream",
     "text": [
      "Python 3.7.9\n",
      "Package               Version"
     ]
    },
    {
     "name": "stderr",
     "output_type": "stream",
     "text": [
      "WARNING: You are using pip version 20.1.1; however, version 24.0 is available.\n",
      "You should consider upgrading via the 'e:\\ml\\net2vec\\venv\\scripts\\python.exe -m pip install --upgrade pip' command.\n"
     ]
    },
    {
     "name": "stdout",
     "output_type": "stream",
     "text": [
      "\n",
      "--------------------- -----------\n",
      "absl-py               2.1.0\n",
      "aiofiles              22.1.0\n",
      "aiosqlite             0.19.0\n",
      "anyio                 3.7.1\n",
      "argon2-cffi           23.1.0\n",
      "argon2-cffi-bindings  21.2.0\n",
      "astor                 0.8.1\n",
      "attrs                 23.2.0\n",
      "Babel                 2.14.0\n",
      "backcall              0.2.0\n",
      "beautifulsoup4        4.12.3\n",
      "bleach                6.0.0\n",
      "certifi               2024.6.2\n",
      "cffi                  1.15.1\n",
      "charset-normalizer    3.3.2\n",
      "colorama              0.4.6\n",
      "cycler                0.11.0\n",
      "debugpy               1.7.0\n",
      "decorator             5.1.1\n",
      "defusedxml            0.7.1\n",
      "entrypoints           0.4\n",
      "exceptiongroup        1.2.1\n",
      "fastjsonschema        2.20.0\n",
      "fonttools             4.38.0\n",
      "gast                  0.2.2\n",
      "google-pasta          0.2.0\n",
      "grpcio                1.62.2\n",
      "h5py                  3.8.0\n",
      "idna                  3.7\n",
      "importlib-metadata    6.7.0\n",
      "importlib-resources   5.12.0\n",
      "ipykernel             6.16.2\n",
      "ipython               7.34.0\n",
      "ipython-genutils      0.2.0\n",
      "jedi                  0.19.1\n",
      "jinja2                3.1.4\n",
      "json5                 0.9.16\n",
      "jsonschema            4.17.3\n",
      "jupyter-client        7.4.9\n",
      "jupyter-core          4.12.0\n",
      "jupyter-events        0.6.3\n",
      "jupyter-server        1.24.0\n",
      "jupyter-server-fileid 0.9.2\n",
      "jupyter-server-ydoc   0.8.0\n",
      "jupyter-ydoc          0.2.5\n",
      "jupyterlab            3.6.7\n",
      "jupyterlab-pygments   0.2.2\n",
      "jupyterlab-server     2.24.0\n",
      "Keras-Applications    1.0.8\n",
      "Keras-Preprocessing   1.1.2\n",
      "kiwisolver            1.4.5\n",
      "Markdown              3.4.4\n",
      "MarkupSafe            2.1.5\n",
      "matplotlib            3.5.3\n",
      "matplotlib-inline     0.1.6\n",
      "mistune               3.0.2\n",
      "nbclassic             1.1.0\n",
      "nbclient              0.7.4\n",
      "nbconvert             7.6.0\n",
      "nbformat              5.8.0\n",
      "nest-asyncio          1.6.0\n",
      "networkx              2.6.3\n",
      "notebook              6.5.7\n",
      "notebook-shim         0.2.4\n",
      "numpy                 1.21.6\n",
      "opt-einsum            3.3.0\n",
      "packaging             24.0\n",
      "pandocfilters         1.5.1\n",
      "parso                 0.8.4\n",
      "pickleshare           0.7.5\n",
      "Pillow                9.5.0\n",
      "pip                   20.1.1\n",
      "pkgutil-resolve-name  1.3.10\n",
      "prometheus-client     0.17.1\n",
      "prompt-toolkit        3.0.47\n",
      "protobuf              3.19.0\n",
      "psutil                5.9.8\n",
      "pycparser             2.21\n",
      "pygments              2.17.2\n",
      "pyparsing             3.1.2\n",
      "pyrsistent            0.19.3\n",
      "python-dateutil       2.9.0.post0\n",
      "python-json-logger    2.0.7\n",
      "pytz                  2024.1\n",
      "pywin32               306\n",
      "pywinpty              2.0.10\n",
      "PyYAML                6.0.1\n",
      "pyzmq                 26.0.3\n",
      "requests              2.31.0\n",
      "rfc3339-validator     0.1.4\n",
      "rfc3986-validator     0.1.1\n",
      "scipy                 1.7.3\n",
      "Send2Trash            1.8.3\n",
      "setuptools            47.1.0\n",
      "six                   1.16.0\n",
      "sniffio               1.3.1\n",
      "soupsieve             2.4.1\n",
      "tensorboard           1.15.0\n",
      "tensorflow            1.15.0\n",
      "tensorflow-estimator  1.15.1\n",
      "termcolor             2.3.0\n",
      "terminado             0.17.1\n",
      "tinycss2              1.2.1\n",
      "tomli                 2.0.1\n",
      "tornado               6.2\n",
      "traitlets             5.9.0\n",
      "typing-extensions     4.7.1\n",
      "urllib3               2.0.7\n",
      "wcwidth               0.2.13\n",
      "webencodings          0.5.1\n",
      "websocket-client      1.6.1\n",
      "Werkzeug              2.2.3\n",
      "wheel                 0.42.0\n",
      "wrapt                 1.16.0\n",
      "y-py                  0.6.2\n",
      "ypy-websocket         0.8.4\n",
      "zipp                  3.15.0\n"
     ]
    }
   ],
   "source": [
    "!python --version\n",
    "!pip3.7 list"
   ]
  },
  {
   "cell_type": "code",
   "execution_count": null,
   "id": "cc624de5-4984-4a20-968b-6301744a852f",
   "metadata": {},
   "outputs": [],
   "source": [
    "#wyłączenie ostrzerzeń tensorflow\n",
    "import os\n",
    "os.environ['TF_CPP_MIN_LOG_LEVEL'] = '3'"
   ]
  },
  {
   "cell_type": "code",
   "execution_count": 2,
   "id": "bbd5ef40-77ca-4727-aec3-0a4f3c9865be",
   "metadata": {
    "tags": []
   },
   "outputs": [
    {
     "name": "stdout",
     "output_type": "stream",
     "text": [
      "2024-06-18 20:48:32.458702 Random response: 734205\n",
      "2024-06-18 20:48:32.459685 generated 0 samples.\n",
      "2024-06-18 20:48:33.686361 generated 500 samples.\n",
      "2024-06-18 20:48:34.793175 generated 1000 samples.\n",
      "2024-06-18 20:48:35.872885 generated 1500 samples.\n"
     ]
    },
    {
     "name": "stderr",
     "output_type": "stream",
     "text": [
      "2024-06-18 20:48:29.959863: W tensorflow/stream_executor/platform/default/dso_loader.cc:55] Could not load dynamic library 'cudart64_100.dll'; dlerror: cudart64_100.dll not found\n",
      "2024-06-18 20:48:29.959896: I tensorflow/stream_executor/cuda/cudart_stub.cc:29] Ignore above cudart dlerror if you do not have a GPU set up on your machine.\n",
      "WARNING:tensorflow:From .\\mpnn\\samples.py:113: The name tf.python_io.TFRecordWriter is deprecated. Please use tf.io.TFRecordWriter instead.\n",
      "\n"
     ]
    }
   ],
   "source": [
    "# Utowrzenie próbek\n",
    "!python .\\mpnn\\samples.py -N 2000 -o eval.tfrecords"
   ]
  },
  {
   "cell_type": "code",
   "execution_count": 3,
   "id": "467d0a69",
   "metadata": {
    "tags": []
   },
   "outputs": [
    {
     "name": "stdout",
     "output_type": "stream",
     "text": [
      "Using GRU architecture for upadate layer\n"
     ]
    }
   ],
   "source": [
    "import tensorflow as tf\n",
    "import numpy as np\n",
    "import datetime\n",
    "\n",
    "import mpnn.graph_nn as gnn\n",
    "import matplotlib.pyplot as plt\n",
    "%matplotlib inline\n",
    "\n",
    "args = gnn.args"
   ]
  },
  {
   "cell_type": "code",
   "execution_count": 4,
   "id": "9229627b-a8ee-4731-80fb-f68ffa20cbae",
   "metadata": {
    "tags": []
   },
   "outputs": [],
   "source": [
    "def make_set():\n",
    "    ds = tf.data.TFRecordDataset([args.eval])\n",
    "    ds = ds.batch(args.batch_size)\n",
    "    serialized_batch = ds.make_one_shot_iterator().get_next()\n",
    "    return serialized_batch"
   ]
  },
  {
   "cell_type": "code",
   "execution_count": 5,
   "id": "ffa2654b-b336-4663-9b69-55a7699be771",
   "metadata": {
    "tags": []
   },
   "outputs": [
    {
     "name": "stdout",
     "output_type": "stream",
     "text": [
      "WARNING:tensorflow:From C:\\Users\\PC\\AppData\\Local\\Temp\\ipykernel_15408\\1334771535.py:4: The name tf.train.get_or_create_global_step is deprecated. Please use tf.compat.v1.train.get_or_create_global_step instead.\n",
      "\n",
      "WARNING:tensorflow:From C:\\Users\\PC\\AppData\\Local\\Temp\\ipykernel_15408\\1334771535.py:5: The name tf.variable_scope is deprecated. Please use tf.compat.v1.variable_scope instead.\n",
      "\n",
      "WARNING:tensorflow:From C:\\Users\\PC\\AppData\\Local\\Temp\\ipykernel_15408\\2606544762.py:4: DatasetV1.make_one_shot_iterator (from tensorflow.python.data.ops.dataset_ops) is deprecated and will be removed in a future version.\n",
      "Instructions for updating:\n",
      "Use `for ... in dataset:` to iterate over a dataset. If using `tf.estimator`, return the `Dataset` object directly from your input function. As a last resort, you can use `tf.compat.v1.data.make_one_shot_iterator(dataset)`.\n",
      "WARNING:tensorflow:From E:\\ML\\net2vec\\mpnn\\graph_nn.py:212: The name tf.parse_single_example is deprecated. Please use tf.io.parse_single_example instead.\n",
      "\n",
      "WARNING:tensorflow:From E:\\ML\\net2vec\\mpnn\\graph_nn.py:215: The name tf.VarLenFeature is deprecated. Please use tf.io.VarLenFeature instead.\n",
      "\n",
      "WARNING:tensorflow:From E:\\ML\\net2vec\\mpnn\\graph_nn.py:217: The name tf.FixedLenFeature is deprecated. Please use tf.io.FixedLenFeature instead.\n",
      "\n",
      "WARNING:tensorflow:From E:\\ML\\net2vec\\mpnn\\graph_nn.py:223: The name tf.sparse_tensor_to_dense is deprecated. Please use tf.sparse.to_dense instead.\n",
      "\n",
      "WARNING:tensorflow:\n",
      "The TensorFlow contrib module will not be included in TensorFlow 2.0.\n",
      "For more information, please see:\n",
      "  * https://github.com/tensorflow/community/blob/master/rfcs/20180907-contrib-sunset.md\n",
      "  * https://github.com/tensorflow/addons\n",
      "  * https://github.com/tensorflow/io (for I/O related ops)\n",
      "If you depend on functionality not listed there, please file an issue.\n",
      "\n",
      "WARNING:tensorflow:From E:\\ML\\net2vec\\mpnn\\graph_nn.py:57: dense (from tensorflow.python.layers.core) is deprecated and will be removed in a future version.\n",
      "Instructions for updating:\n",
      "Use keras.layers.Dense instead.\n",
      "WARNING:tensorflow:From e:\\ml\\net2vec\\venv\\lib\\site-packages\\tensorflow_core\\python\\layers\\core.py:187: Layer.apply (from tensorflow.python.keras.engine.base_layer) is deprecated and will be removed in a future version.\n",
      "Instructions for updating:\n",
      "Please use `layer.__call__` method instead.\n",
      "WARNING:tensorflow:From e:\\ml\\net2vec\\venv\\lib\\site-packages\\tensorflow_core\\python\\util\\dispatch.py:180: calling expand_dims (from tensorflow.python.ops.array_ops) with dim is deprecated and will be removed in a future version.\n",
      "Instructions for updating:\n",
      "Use the `axis` argument instead\n",
      "WARNING:tensorflow:From E:\\ML\\net2vec\\mpnn\\graph_nn.py:181: The name tf.unsorted_segment_sum is deprecated. Please use tf.math.unsorted_segment_sum instead.\n",
      "\n",
      "WARNING:tensorflow:From E:\\ML\\net2vec\\mpnn\\graph_nn.py:104: The name tf.get_variable is deprecated. Please use tf.compat.v1.get_variable instead.\n",
      "\n",
      "WARNING:tensorflow:From C:\\Users\\PC\\AppData\\Local\\Temp\\ipykernel_15408\\1334771535.py:8: batch_normalization (from tensorflow.python.layers.normalization) is deprecated and will be removed in a future version.\n",
      "Instructions for updating:\n",
      "Use keras.layers.BatchNormalization instead.  In particular, `tf.control_dependencies(tf.GraphKeys.UPDATE_OPS)` should not be used (consult the `tf.keras.layers.batch_normalization` documentation).\n",
      "WARNING:tensorflow:From C:\\Users\\PC\\AppData\\Local\\Temp\\ipykernel_15408\\1334771535.py:10: The name tf.losses.mean_squared_error is deprecated. Please use tf.compat.v1.losses.mean_squared_error instead.\n",
      "\n",
      "WARNING:tensorflow:From e:\\ml\\net2vec\\venv\\lib\\site-packages\\tensorflow_core\\python\\ops\\losses\\losses_impl.py:121: where (from tensorflow.python.ops.array_ops) is deprecated and will be removed in a future version.\n",
      "Instructions for updating:\n",
      "Use tf.where in 2.0, which has the same broadcast rule as np.where\n",
      "WARNING:tensorflow:From C:\\Users\\PC\\AppData\\Local\\Temp\\ipykernel_15408\\1334771535.py:12: The name tf.train.Saver is deprecated. Please use tf.compat.v1.train.Saver instead.\n",
      "\n",
      "WARNING:tensorflow:From C:\\Users\\PC\\AppData\\Local\\Temp\\ipykernel_15408\\1334771535.py:12: The name tf.trainable_variables is deprecated. Please use tf.compat.v1.trainable_variables instead.\n",
      "\n"
     ]
    }
   ],
   "source": [
    "g=tf.Graph()\n",
    "\n",
    "with g.as_default():\n",
    "    global_step = tf.train.get_or_create_global_step()\n",
    "    with tf.variable_scope('model'):\n",
    "        serialized_batch = make_set()\n",
    "        batch, labels = gnn.make_batch(serialized_batch)\n",
    "        n_batch = tf.layers.batch_normalization(batch) \n",
    "        predictions = gnn.inference(n_batch)\n",
    "    loss= tf.losses.mean_squared_error(labels,predictions)        \n",
    "    \n",
    "    saver = tf.train.Saver(tf.trainable_variables() + [global_step])\n"
   ]
  },
  {
   "cell_type": "code",
   "execution_count": 6,
   "id": "88c99e67",
   "metadata": {
    "tags": []
   },
   "outputs": [
    {
     "name": "stdout",
     "output_type": "stream",
     "text": [
      "WARNING:tensorflow:From C:\\Users\\PC\\AppData\\Local\\Temp\\ipykernel_15408\\3541118490.py:1: The name tf.Session is deprecated. Please use tf.compat.v1.Session instead.\n",
      "\n",
      "WARNING:tensorflow:From C:\\Users\\PC\\AppData\\Local\\Temp\\ipykernel_15408\\3541118490.py:2: The name tf.local_variables_initializer is deprecated. Please use tf.compat.v1.local_variables_initializer instead.\n",
      "\n",
      "WARNING:tensorflow:From C:\\Users\\PC\\AppData\\Local\\Temp\\ipykernel_15408\\3541118490.py:3: The name tf.global_variables_initializer is deprecated. Please use tf.compat.v1.global_variables_initializer instead.\n",
      "\n",
      "Loading checkpint: log\\model.ckpt-8000\n",
      "WARNING:tensorflow:From C:\\Users\\PC\\AppData\\Local\\Temp\\ipykernel_15408\\3541118490.py:7: The name tf.logging.info is deprecated. Please use tf.compat.v1.logging.info instead.\n",
      "\n",
      "INFO:tensorflow:Loading checkpint: log\\model.ckpt-8000\n",
      "INFO:tensorflow:Restoring parameters from log\\model.ckpt-8000\n",
      "(1024, 1)\n",
      "2024-06-18 20:48:42.727318 step: 8000 mse: 0.0008525780285708606 R**2: 0.9581208117306232 Pearson: 0.9806275255146533\n"
     ]
    },
    {
     "data": {
      "image/png": "[encoded data removed]",
      "text/plain": [
       "<Figure size 640x480 with 1 Axes>"
      ]
     },
     "metadata": {},
     "output_type": "display_data"
    },
    {
     "data": {
      "image/png": "[encoded data removed]",
      "text/plain": [
       "<Figure size 640x480 with 1 Axes>"
      ]
     },
     "metadata": {},
     "output_type": "display_data"
    }
   ],
   "source": [
    "with tf.Session(graph=g) as ses:\n",
    "    ses.run(tf.local_variables_initializer())\n",
    "    ses.run(tf.global_variables_initializer())\n",
    "    ckpt=tf.train.latest_checkpoint(args.log_dir)\n",
    "    if ckpt:\n",
    "        print(\"Loading checkpint: %s\" % (ckpt))\n",
    "        tf.logging.info(\"Loading checkpint: %s\" % (ckpt))\n",
    "        saver.restore(ses, ckpt)\n",
    "    \n",
    "    label_py=[]\n",
    "    predictions_py=[]\n",
    "    for i in range(16):\n",
    "        val_label_py, val_predictions_py, step = ses.run( [labels,predictions, global_step] )\n",
    "        label_py.append(val_label_py)\n",
    "        predictions_py.append(val_predictions_py)\n",
    "    label_py = np.concatenate(label_py,axis=0)\n",
    "    predictions_py = np.concatenate(predictions_py,axis=0)\n",
    "    print(label_py.shape)\n",
    "    print('{} step: {} mse: {} R**2: {} Pearson: {}'.format(\n",
    "        str(datetime.datetime.now()),\n",
    "        step,\n",
    "        np.mean((label_py-predictions_py)**2),\n",
    "        #np.max(np.abs(test_error)),\n",
    "        gnn.fitquality(label_py,predictions_py),\n",
    "        np.corrcoef(label_py,predictions_py, rowvar=False)[0,1] ), flush=True ) \n",
    "    plt.figure()\n",
    "    plt.plot(label_py,predictions_py,'.')\n",
    "    gnn.line_1(label_py, label_py)\n",
    "    plt.grid('on')\n",
    "    plt.xlabel('Label')\n",
    "    plt.ylabel('Prediction')\n",
    "    plt.title('Evaluation at step {}'.format(step))\n",
    "    fig_path = os.path.join(args.log_dir,'eval-{0:08}.png'.format(step) )\n",
    "    fig_path = 'eval.pdf'.format(step)\n",
    "    plt.show()\n",
    "    plt.close()\n",
    "    plt.figure()\n",
    "    plt.hist(label_py-predictions_py, 50)\n",
    "    fig_path = 'rez_hist.pdf'\n",
    "    plt.show()\n",
    "    plt.close()"
   ]
  },
  {
   "cell_type": "markdown",
   "id": "b68edda0",
   "metadata": {},
   "source": [
    "message passing"
   ]
  },
  {
   "cell_type": "markdown",
   "id": "6886eceb",
   "metadata": {},
   "source": [
    "message"
   ]
  },
  {
   "cell_type": "markdown",
   "id": "e1cd5bf5",
   "metadata": {},
   "source": [
    "update"
   ]
  },
  {
   "cell_type": "markdown",
   "id": "defe2246",
   "metadata": {},
   "source": [
    "# Rodzaje rekurencyjnych sieci neuronowych(RNN)\n",
    "\n",
    "## Prosta sieć neuronowa (Vanilla)\n",
    "![image](images/rnn_diagram.webp)  \n",
    "*Praveen Raj, Medium.com*\n",
    "\n",
    "* Najprostsze obliczeniowo podejście\n",
    "* Stosowanie **backpropagation** analogiczne jak w klasycznych sieciach neuronowych\n",
    "* Podatne na **exploding gradient** i **vanishing gradient**\n",
    "    * 1,1^50 ~= 117\n",
    "    * 0,9^50 ~= 0,005"
   ]
  },
  {
   "cell_type": "code",
   "execution_count": null,
   "id": "34efbc06",
   "metadata": {},
   "outputs": [],
   "source": [
    "N_H = args.pad + 2\n",
    "\n",
    "def U_RNN(h, m, x, flag, c):\n",
    "        with tf.variable_scope('update'):\n",
    "            # na wejście warstwy wchodzi suma stanu ukrytego (h) i wiadomości (m)\n",
    "            hm = h + m\n",
    "            # ustawienie ostatinego elementu tensora na warość flagi identyfikującej wierzchołek\n",
    "            hm = tf.concat([hm[:, :-1], flag], axis = 1)\n",
    "            # pojedynczy perceptron z aktywacją ReLU\n",
    "            u = tf.layers.dense(hm, N_H, activation = tf.nn.relu)\n",
    "            # nowy stan ukryty (u) - update\n",
    "            return u, c"
   ]
  },
  {
   "cell_type": "markdown",
   "id": "0ae6e56d",
   "metadata": {},
   "source": [
    "## Long short-term memory (LSTM)\n",
    "\n",
    "![image](images/LSTM_Cell.svg.png)  \n",
    "*Wikimedia Commons*\n",
    "\n",
    "* Dobrze radzi sobie z długofalowymi (wiele kroków) relacjami\n",
    "* Złagodzenie problemu vaniching gradient\n",
    "* Istnieją warianty dwukierunkowe, przydatne w problemach w których można wnioskować z poprzednich i następujących danych\n",
    "* Duża ilość prametrów i operacji\n",
    "    * wymaga więcej mocy obliczeniowej\n",
    "    * podatne na overfitting\n",
    "* Trudność w interpretacji"
   ]
  },
  {
   "cell_type": "code",
   "execution_count": null,
   "id": "982e71d8",
   "metadata": {},
   "outputs": [],
   "source": [
    "def U_LSTM(h, m, x, flag, c):\n",
    "        with tf.variable_scope('update'):\n",
    "            bf = tf.get_variable(name='bf', shape=(N_H,), dtype=tf.float32)\n",
    "            wf = tf.get_variable(name='wf', shape=(N_H, N_H), dtype=tf.float32)\n",
    "            uf = tf.get_variable(name='uf', shape=(N_H, N_H), dtype=tf.float32)\n",
    "            bi = tf.get_variable(name='bi', shape=(N_H,), dtype=tf.float32)\n",
    "            wi = tf.get_variable(name='wi', shape=(N_H, N_H), dtype=tf.float32)\n",
    "            ui = tf.get_variable(name='ui', shape=(N_H, N_H), dtype=tf.float32)\n",
    "            bo = tf.get_variable(name='bo', shape=(N_H,), dtype=tf.float32)\n",
    "            wo = tf.get_variable(name='wo', shape=(N_H, N_H), dtype=tf.float32)\n",
    "            uo = tf.get_variable(name='uo', shape=(N_H, N_H), dtype=tf.float32)\n",
    "            bc = tf.get_variable(name='bc', shape=(N_H,), dtype=tf.float32)\n",
    "            wc = tf.get_variable(name='wc', shape=(N_H, N_H), dtype=tf.float32)\n",
    "            uc = tf.get_variable(name='uc', shape=(N_H, N_H), dtype=tf.float32)\n",
    "\n",
    "            # ustawienie ostatinego elementu tensora na warość flagi identyfikującej wierzchołek\n",
    "            h = tf.concat([h[:, :-1], flag], axis = 1)\n",
    "\n",
    "            # forget gate\n",
    "            ft = tf.nn.sigmoid(tf.matmul(m, wf) + tf.matmul(h, uf) + bf)\n",
    "            # input gate\n",
    "            it = tf.nn.sigmoid(tf.matmul(m, wi) + tf.matmul(h, ui) + bi)\n",
    "            # output gate\n",
    "            ot = tf.nn.sigmoid(tf.matmul(m, wo) + tf.matmul(h, uo) + bo)\n",
    "            # potencjalny kandydat (c~)\n",
    "            c_tylda = tf.nn.tanh(tf.matmul(m, wc) + tf.matmul(h, uc) + bc)\n",
    "            # nowy kandydat (c) - stary * forget gate + potencjalny * input gate\n",
    "            c = tf.math.multiply(ft, c) + tf.math.multiply(it, c_tylda)\n",
    "            # stan ukryty/update (u) = kandydat (c) * output gate\n",
    "            u = tf.math.multiply(ot, tf.nn.tanh(c))\n",
    "            return u, c"
   ]
  },
  {
   "cell_type": "markdown",
   "id": "20f16406",
   "metadata": {},
   "source": [
    "## Gated Reccurent Unit (GRU)\n",
    "![image](images/Gated_Recurrent_Unit,_base_type.svg.png)\n",
    "\n",
    "* mniej złożona od LSTM (3 operacje maierzowe i 1 *element-wise* do 4 operacji macierzowyc i 2 *element-wise*)\n",
    "    * szybsze uczenie modelu\n",
    "    * mniej podatne na overfitting\n",
    "* dobrze radzi sobi z problemem vanishing gradient\n",
    "* może radzić sobie gorzej z długofalowymi zależnościami\n",
    "* w wielu praktycznych zastowoniach osiąga wyniki porównywalne z LSTM, niekiedy lepsze"
   ]
  },
  {
   "cell_type": "code",
   "execution_count": null,
   "id": "ad1e0723",
   "metadata": {},
   "outputs": [],
   "source": [
    "def U_GRU(h, m, x, flag, c):\n",
    "    with tf.variable_scope('update'):\n",
    "        wz=tf.get_variable(name='wz',shape=(N_H,N_H),dtype=tf.float32)\n",
    "        uz=tf.get_variable(name='uz',shape=(N_H,N_H),dtype=tf.float32)\n",
    "        wr=tf.get_variable(name='wr',shape=(N_H,N_H),dtype=tf.float32)\n",
    "        ur=tf.get_variable(name='ur',shape=(N_H,N_H),dtype=tf.float32)\n",
    "        W=tf.get_variable(name='W',shape=(N_H,N_H),dtype=tf.float32)\n",
    "        U=tf.get_variable(name='U',shape=(N_H,N_H),dtype=tf.float32)\n",
    "\n",
    "        # ustawienie ostatinego elementu tensora na warość flagi identyfikującej wierzchołek\n",
    "        h = tf.concat([h[:, :-1], flag], axis = 1)\n",
    "        # update gate\n",
    "        z = tf.nn.sigmoid(tf.matmul(m,wz) + tf.matmul(h,uz))\n",
    "        # reset gate\n",
    "        r = tf.nn.sigmoid(tf.matmul(m,wr) + tf.matmul(h,ur))\n",
    "        # candidate hidden state (h~)\n",
    "        h_tylda = tf.nn.tanh(tf.matmul(m,W) + tf.matmul(r*h,U) )\n",
    "        # final fidden state/update (u)\n",
    "        u = (1.0-z)*h + z*h_tylda\n",
    "        return u, c"
   ]
  },
  {
   "cell_type": "markdown",
   "id": "fab0ad98",
   "metadata": {},
   "source": [
    "## Porównanie\n",
    "### 2000 kroków\n",
    "![img](images/2k_eval.png)\n",
    "![img](images/2k_plot.png)\n",
    "### 8000 kroków\n",
    "![img](images/8k_eval.png)\n",
    "![img](images/8k_plot.png)\n",
    "### 20 000 kroków\n",
    "![img](images/20k_eval.png)\n",
    "![img](images/20k_plot.png)"
   ]
  },
  {
   "cell_type": "markdown",
   "id": "227e6b7b",
   "metadata": {},
   "source": [
    "readout"
   ]
  },
  {
   "cell_type": "markdown",
   "id": "fef7e5e7",
   "metadata": {},
   "source": [
    "### Źródła\n",
    "-  Krzysztof Rusek and Piotr Chołda, ''Message-Passing Neural Networks Learn Little's Law'', IEEE Communications Letters, 2018"
   ]
  }
 ],
 "metadata": {
  "kernelspec": {
   "display_name": "Python 3 (ipykernel)",
   "language": "python",
   "name": "python3"
  },
  "language_info": {
   "codemirror_mode": {
    "name": "ipython",
    "version": 3
   },
   "file_extension": ".py",
   "mimetype": "text/x-python",
   "name": "python",
   "nbconvert_exporter": "python",
   "pygments_lexer": "ipython3",
   "version": "3.7.9"
  }
 },
 "nbformat": 4,
 "nbformat_minor": 5
}
