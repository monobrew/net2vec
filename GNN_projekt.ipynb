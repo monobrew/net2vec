{
 "cells": [
  {
   "cell_type": "markdown",
   "id": "03aa63c1",
   "metadata": {},
   "source": [
    "## W jaki sposób reprezentować grafy?\n",
    "\n",
    "![image.png](images/adjacency_matrix_permutations.png)"
   ]
  },
  {
   "cell_type": "raw",
   "id": "fc639a89-b317-4638-a2bd-535fcff5c4fb",
   "metadata": {
    "vscode": {
     "languageId": "raw"
    }
   },
   "source": [
    "# Zainstalować pythona 3.7\n",
    "...\n",
    "# Utworzyć wirtualne środowisko w katalogu\n",
    "python3.7 -m venv venv\n",
    "\n",
    "# Aktywować środowisko\n",
    "# Linux\n",
    "source venv/bin/activate\n",
    "# Windows\n",
    ".\\venv\\Scripts\\activate\n",
    "\n",
    "# Instalacja odpowiednich bibliotek\n",
    "pip3.7 install tensorflow==1.15.0 protobuf==3.19.0 matplotlib scipy networkx\n",
    "\n",
    "# Potrzebne są 3 pliki train.tfrecord test.tfrecords i eval.tfrecords\n",
    "python3.7 samples.py -N <liczba sampli> -o <nazwa pliku wyjściowego>\n",
    "\n",
    "# Należy najpierw uruchomić gnn.py\n",
    "python3.7 gnn.py -I <liczba iteracji>\n",
    "\n",
    "# Potem uruchomić eval.py\n",
    "python3.7 eval.py -I <liczba iteracji>"
   ]
  },
  {
   "cell_type": "code",
   "execution_count": 1,
   "id": "942ad314-b33a-4551-9699-cdb3bc1ace5b",
   "metadata": {
    "tags": []
   },
   "outputs": [
    {
     "name": "stdout",
     "output_type": "stream",
     "text": [
      "Python 3.7.9\n",
      "Package               Version\n",
      "--------------------- -----------\n",
      "absl-py               2.1.0\n",
      "aiofiles              22.1.0\n",
      "aiosqlite             0.19.0\n",
      "anyio                 3.7.1\n",
      "argon2-cffi           23.1.0\n",
      "argon2-cffi-bindings  21.2.0\n",
      "astor                 0.8.1\n",
      "attrs                 23.2.0\n",
      "Babel                 2.14.0\n",
      "backcall              0.2.0\n",
      "beautifulsoup4        4.12.3\n",
      "bleach                6.0.0\n",
      "certifi               2024.6.2\n",
      "cffi                  1.15.1\n",
      "charset-normalizer    3.3.2\n",
      "colorama              0.4.6\n",
      "cycler                0.11.0\n",
      "debugpy               1.7.0\n",
      "decorator             5.1.1\n",
      "defusedxml            0.7.1\n",
      "entrypoints           0.4\n",
      "exceptiongroup        1.2.1\n",
      "fastjsonschema        2.20.0\n",
      "fonttools             4.38.0\n",
      "gast                  0.2.2\n",
      "google-pasta          0.2.0\n",
      "grpcio                1.62.2\n",
      "h5py                  3.8.0\n",
      "idna                  3.7\n",
      "importlib-metadata    6.7.0\n",
      "importlib-resources   5.12.0\n",
      "ipykernel             6.16.2\n",
      "ipython               7.34.0\n",
      "ipython-genutils      0.2.0\n",
      "jedi                  0.19.1\n",
      "jinja2                3.1.4\n",
      "json5                 0.9.16\n",
      "jsonschema            4.17.3\n",
      "jupyter-client        7.4.9\n",
      "jupyter-core          4.12.0\n",
      "jupyter-events        0.6.3\n",
      "jupyter-server        1.24.0\n",
      "jupyter-server-fileid 0.9.2\n",
      "jupyter-server-ydoc   0.8.0\n",
      "jupyter-ydoc          0.2.5\n",
      "jupyterlab            3.6.7\n",
      "jupyterlab-pygments   0.2.2\n",
      "jupyterlab-server     2.24.0\n",
      "Keras-Applications    1.0.8\n",
      "Keras-Preprocessing   1.1.2\n",
      "kiwisolver            1.4.5\n",
      "Markdown              3.4.4\n",
      "MarkupSafe            2.1.5\n",
      "matplotlib            3.5.3\n",
      "matplotlib-inline     0.1.6\n",
      "mistune               3.0.2\n",
      "nbclassic             1.1.0\n",
      "nbclient              0.7.4\n",
      "nbconvert             7.6.0\n",
      "nbformat              5.8.0\n",
      "nest-asyncio          1.6.0\n",
      "networkx              2.6.3\n",
      "notebook              6.5.7\n",
      "notebook-shim         0.2.4\n",
      "numpy                 1.21.6\n",
      "opt-einsum            3.3.0\n",
      "packaging             24.0\n",
      "pandocfilters         1.5.1\n",
      "parso                 0.8.4\n",
      "pickleshare           0.7.5\n",
      "Pillow                9.5.0\n",
      "pip                   20.1.1\n",
      "pkgutil-resolve-name  1.3.10\n",
      "prometheus-client     0.17.1\n",
      "prompt-toolkit        3.0.47\n",
      "protobuf              3.19.0\n",
      "psutil                5.9.8\n",
      "pycparser             2.21\n",
      "pygments              2.17.2\n",
      "pyparsing             3.1.2\n",
      "pyrsistent            0.19.3\n",
      "python-dateutil       2.9.0.post0\n",
      "python-json-logger    2.0.7\n",
      "pytz                  2024.1\n",
      "pywin32               306\n",
      "pywinpty              2.0.10\n",
      "PyYAML                6.0.1\n",
      "pyzmq                 26.0.3\n",
      "requests              2.31.0\n",
      "rfc3339-validator     0.1.4\n",
      "rfc3986-validator     0.1.1\n",
      "scipy                 1.7.3\n",
      "Send2Trash            1.8.3\n",
      "setuptools            47.1.0\n",
      "six                   1.16.0\n",
      "sniffio               1.3.1\n",
      "soupsieve             2.4.1\n",
      "tensorboard           1.15.0\n",
      "tensorflow            1.15.0\n",
      "tensorflow-estimator  1.15.1\n",
      "termcolor             2.3.0\n",
      "terminado             0.17.1\n",
      "tinycss2              1.2.1\n",
      "tomli                 2.0.1\n",
      "tornado               6.2\n",
      "traitlets             5.9.0\n",
      "typing-extensions     4.7.1\n",
      "urllib3               2.0.7\n",
      "wcwidth               0.2.13\n",
      "webencodings          0.5.1\n",
      "websocket-client      1.6.1\n",
      "Werkzeug              2.2.3\n",
      "wheel                 0.42.0\n",
      "wrapt                 1.16.0\n",
      "y-py                  0.6.2\n",
      "ypy-websocket         0.8.4\n",
      "zipp                  3.15.0\n"
     ]
    },
    {
     "name": "stderr",
     "output_type": "stream",
     "text": [
      "WARNING: You are using pip version 20.1.1; however, version 24.0 is available.\n",
      "You should consider upgrading via the 'e:\\ml\\net2vec\\venv\\scripts\\python.exe -m pip install --upgrade pip' command.\n"
     ]
    }
   ],
   "source": [
    "!python --version\n",
    "!pip3.7 list"
   ]
  },
  {
   "cell_type": "code",
   "execution_count": 2,
   "id": "cc624de5-4984-4a20-968b-6301744a852f",
   "metadata": {},
   "outputs": [],
   "source": [
    "#wyłączenie ostrzerzeń tensorflow\n",
    "import os\n",
    "os.environ['TF_CPP_MIN_LOG_LEVEL'] = '3'"
   ]
  },
  {
   "attachments": {
    "Little_law.png": {
     "image/png": "[encoded data removed]"
    },
    "lambda_formula.png": {
     "image/png": "[encoded data removed]"
    },
    "queue_length.png": {
     "image/png": "[encoded data removed]"
    },
    "used_data.png": {
     "image/png": "[encoded data removed]"
    }
   },
   "cell_type": "markdown",
   "id": "caeb1805",
   "metadata": {},
   "source": [
    "## Jak generowany jest dataset oraz co liczy model.\n",
    "\n",
    "![Little_law.png](attachment:Little_law.png) ![lambda_formula.png](attachment:lambda_formula.png) ![queue_length.png](attachment:queue_length.png)\n",
    "\n",
    "![used_data.png](attachment:used_data.png)"
   ]
  },
  {
   "cell_type": "code",
   "execution_count": 3,
   "id": "467d0a69",
   "metadata": {
    "tags": []
   },
   "outputs": [
    {
     "name": "stdout",
     "output_type": "stream",
     "text": [
      "Using GRU architecture for upadate layer\n"
     ]
    }
   ],
   "source": [
    "import tensorflow as tf\n",
    "import numpy as np\n",
    "import datetime\n",
    "\n",
    "import mpnn.graph_nn as gnn\n",
    "import matplotlib.pyplot as plt\n",
    "%matplotlib inline\n",
    "\n",
    "args = gnn.args"
   ]
  },
  {
   "cell_type": "code",
   "execution_count": 4,
   "id": "ef01534c",
   "metadata": {},
   "outputs": [
    {
     "name": "stdout",
     "output_type": "stream",
     "text": [
      "2024-06-19 16:32:59.227609 Random response: 724151\n",
      "2024-06-19 16:32:59.229636 generated 0 samples.\n",
      "2024-06-19 16:33:00.395430 generated 500 samples.\n",
      "2024-06-19 16:33:01.511807 generated 1000 samples.\n",
      "2024-06-19 16:33:02.640126 generated 1500 samples.\n",
      "2024-06-19 16:33:03.843484 generated 2000 samples.\n",
      "2024-06-19 16:33:05.065505 generated 2500 samples.\n",
      "2024-06-19 16:33:06.152789 generated 3000 samples.\n",
      "2024-06-19 16:33:07.181628 generated 3500 samples.\n",
      "2024-06-19 16:33:08.229147 generated 4000 samples.\n",
      "2024-06-19 16:33:09.255064 generated 4500 samples.\n",
      "2024-06-19 16:33:10.319501 generated 5000 samples.\n",
      "2024-06-19 16:33:11.426612 generated 5500 samples.\n",
      "2024-06-19 16:33:12.492545 generated 6000 samples.\n",
      "2024-06-19 16:33:13.517630 generated 6500 samples.\n",
      "2024-06-19 16:33:14.530768 generated 7000 samples.\n",
      "2024-06-19 16:33:15.590778 generated 7500 samples.\n",
      "2024-06-19 16:33:16.620025 generated 8000 samples.\n",
      "2024-06-19 16:33:17.835204 generated 8500 samples.\n",
      "2024-06-19 16:33:18.910769 generated 9000 samples.\n",
      "2024-06-19 16:33:19.937169 generated 9500 samples.\n"
     ]
    },
    {
     "name": "stderr",
     "output_type": "stream",
     "text": [
      "WARNING:tensorflow:From ./mpnn/samples.py:113: The name tf.python_io.TFRecordWriter is deprecated. Please use tf.io.TFRecordWriter instead.\n",
      "\n"
     ]
    }
   ],
   "source": [
    "# Utowrzenie próbek Barabasi-Albert, n = 40\n",
    "!python ./mpnn/samples.py -N 10000 -o eval.tfrecords -g ba -n 40\n",
    "args.eval = 'eval.tfrecords'"
   ]
  },
  {
   "cell_type": "code",
   "execution_count": 5,
   "id": "e14f6f28",
   "metadata": {},
   "outputs": [
    {
     "name": "stdout",
     "output_type": "stream",
     "text": [
      "2024-06-19 16:33:31.429135 Random response: 457459\n",
      "2024-06-19 16:33:31.430132 generated 0 samples.\n",
      "2024-06-19 16:33:34.529956 generated 500 samples.\n",
      "2024-06-19 16:33:37.307383 generated 1000 samples.\n",
      "2024-06-19 16:33:39.756868 generated 1500 samples.\n",
      "2024-06-19 16:33:42.307951 generated 2000 samples.\n",
      "2024-06-19 16:33:44.883757 generated 2500 samples.\n",
      "2024-06-19 16:33:47.769882 generated 3000 samples.\n",
      "2024-06-19 16:33:50.306100 generated 3500 samples.\n",
      "2024-06-19 16:33:52.724633 generated 4000 samples.\n",
      "2024-06-19 16:33:55.251876 generated 4500 samples.\n",
      "2024-06-19 16:33:58.148133 generated 5000 samples.\n",
      "2024-06-19 16:34:01.133080 generated 5500 samples.\n",
      "2024-06-19 16:34:04.094317 generated 6000 samples.\n",
      "2024-06-19 16:34:06.904702 generated 6500 samples.\n",
      "2024-06-19 16:34:11.808370 generated 7000 samples.\n",
      "2024-06-19 16:34:14.263262 generated 7500 samples.\n",
      "2024-06-19 16:34:17.278882 generated 8000 samples.\n",
      "2024-06-19 16:34:19.773492 generated 8500 samples.\n",
      "2024-06-19 16:34:22.312130 generated 9000 samples.\n",
      "2024-06-19 16:34:24.788177 generated 9500 samples.\n"
     ]
    },
    {
     "name": "stderr",
     "output_type": "stream",
     "text": [
      "WARNING:tensorflow:From ./mpnn/samples.py:113: The name tf.python_io.TFRecordWriter is deprecated. Please use tf.io.TFRecordWriter instead.\n",
      "\n"
     ]
    }
   ],
   "source": [
    "# Utowrzenie próbek Barabasi-Albert, n = 80\n",
    "!python ./mpnn/samples.py -N 10000 -o eval80.tfrecords -g ba -n 80\n",
    "args.eval = 'eval80.tfrecords'"
   ]
  },
  {
   "cell_type": "code",
   "execution_count": 6,
   "id": "d97cc5f3",
   "metadata": {},
   "outputs": [
    {
     "name": "stdout",
     "output_type": "stream",
     "text": [
      "2024-06-19 16:34:30.442924 Random response: 27429\n",
      "2024-06-19 16:34:30.443920 generated 0 samples.\n",
      "2024-06-19 16:34:32.254255 generated 500 samples.\n",
      "2024-06-19 16:34:33.835255 generated 1000 samples.\n",
      "2024-06-19 16:34:35.449157 generated 1500 samples.\n",
      "2024-06-19 16:34:37.050703 generated 2000 samples.\n",
      "2024-06-19 16:34:38.577093 generated 2500 samples.\n",
      "2024-06-19 16:34:40.125286 generated 3000 samples.\n",
      "2024-06-19 16:34:41.627151 generated 3500 samples.\n",
      "2024-06-19 16:34:43.100515 generated 4000 samples.\n",
      "2024-06-19 16:34:44.609800 generated 4500 samples.\n",
      "2024-06-19 16:34:46.119011 generated 5000 samples.\n",
      "2024-06-19 16:34:47.631050 generated 5500 samples.\n",
      "2024-06-19 16:34:49.161161 generated 6000 samples.\n",
      "2024-06-19 16:34:50.733063 generated 6500 samples.\n",
      "2024-06-19 16:34:52.335268 generated 7000 samples.\n",
      "2024-06-19 16:34:53.917998 generated 7500 samples.\n",
      "2024-06-19 16:34:55.481095 generated 8000 samples.\n",
      "2024-06-19 16:34:57.042277 generated 8500 samples.\n",
      "2024-06-19 16:34:58.596496 generated 9000 samples.\n",
      "2024-06-19 16:35:00.154785 generated 9500 samples.\n"
     ]
    },
    {
     "name": "stderr",
     "output_type": "stream",
     "text": [
      "WARNING:tensorflow:From ./mpnn/samples.py:113: The name tf.python_io.TFRecordWriter is deprecated. Please use tf.io.TFRecordWriter instead.\n",
      "\n"
     ]
    }
   ],
   "source": [
    "# Utowrzenie próbek Erdos-Renyi, n = 40\n",
    "!python ./mpnn/samples.py -N 10000 -o evaler.tfrecords -g er -n 40\n",
    "args.eval = 'evaler.tfrecords'"
   ]
  },
  {
   "cell_type": "code",
   "execution_count": 7,
   "id": "422888cf",
   "metadata": {},
   "outputs": [
    {
     "name": "stdout",
     "output_type": "stream",
     "text": [
      "2024-06-19 16:35:04.811206 Random response: 659494\n",
      "2024-06-19 16:35:04.812203 generated 0 samples.\n",
      "2024-06-19 16:35:09.678207 generated 500 samples.\n",
      "2024-06-19 16:35:14.820969 generated 1000 samples.\n",
      "2024-06-19 16:35:19.913505 generated 1500 samples.\n",
      "2024-06-19 16:35:24.077255 generated 2000 samples.\n",
      "2024-06-19 16:35:28.512385 generated 2500 samples.\n",
      "2024-06-19 16:35:33.061968 generated 3000 samples.\n",
      "2024-06-19 16:35:37.718953 generated 3500 samples.\n",
      "2024-06-19 16:35:43.157070 generated 4000 samples.\n",
      "2024-06-19 16:35:46.955762 generated 4500 samples.\n",
      "2024-06-19 16:35:51.045701 generated 5000 samples.\n",
      "2024-06-19 16:35:55.501992 generated 5500 samples.\n",
      "2024-06-19 16:36:00.192332 generated 6000 samples.\n",
      "2024-06-19 16:36:05.158931 generated 6500 samples.\n",
      "2024-06-19 16:36:09.808884 generated 7000 samples.\n",
      "2024-06-19 16:36:14.248515 generated 7500 samples.\n",
      "2024-06-19 16:36:18.672639 generated 8000 samples.\n",
      "2024-06-19 16:36:23.604764 generated 8500 samples.\n",
      "2024-06-19 16:36:28.603761 generated 9000 samples.\n",
      "2024-06-19 16:36:33.145470 generated 9500 samples.\n"
     ]
    },
    {
     "name": "stderr",
     "output_type": "stream",
     "text": [
      "WARNING:tensorflow:From ./mpnn/samples.py:113: The name tf.python_io.TFRecordWriter is deprecated. Please use tf.io.TFRecordWriter instead.\n",
      "\n"
     ]
    }
   ],
   "source": [
    "# Utowrzenie próbek Erdos-Renyi, n = 80\n",
    "!python ./mpnn/samples.py -N 10000 -o evaler80.tfrecords -g er -n 80\n",
    "args.eval = 'evaler80.tfrecords'"
   ]
  },
  {
   "cell_type": "code",
   "execution_count": 8,
   "id": "9229627b-a8ee-4731-80fb-f68ffa20cbae",
   "metadata": {
    "tags": []
   },
   "outputs": [],
   "source": [
    "def make_set():\n",
    "    ds = tf.data.TFRecordDataset([args.eval])\n",
    "    ds = ds.batch(args.batch_size)\n",
    "    serialized_batch = ds.make_one_shot_iterator().get_next()\n",
    "    return serialized_batch"
   ]
  },
  {
   "cell_type": "code",
   "execution_count": 9,
   "id": "ffa2654b-b336-4663-9b69-55a7699be771",
   "metadata": {
    "tags": []
   },
   "outputs": [
    {
     "name": "stdout",
     "output_type": "stream",
     "text": [
      "WARNING:tensorflow:From C:\\Users\\PC\\AppData\\Local\\Temp\\ipykernel_7924\\2267578113.py:5: The name tf.train.get_or_create_global_step is deprecated. Please use tf.compat.v1.train.get_or_create_global_step instead.\n",
      "\n",
      "WARNING:tensorflow:From C:\\Users\\PC\\AppData\\Local\\Temp\\ipykernel_7924\\2267578113.py:6: The name tf.variable_scope is deprecated. Please use tf.compat.v1.variable_scope instead.\n",
      "\n",
      "WARNING:tensorflow:From C:\\Users\\PC\\AppData\\Local\\Temp\\ipykernel_7924\\2606544762.py:4: DatasetV1.make_one_shot_iterator (from tensorflow.python.data.ops.dataset_ops) is deprecated and will be removed in a future version.\n",
      "Instructions for updating:\n",
      "Use `for ... in dataset:` to iterate over a dataset. If using `tf.estimator`, return the `Dataset` object directly from your input function. As a last resort, you can use `tf.compat.v1.data.make_one_shot_iterator(dataset)`.\n",
      "WARNING:tensorflow:From e:\\ML\\net2vec\\mpnn\\graph_nn.py:213: The name tf.parse_single_example is deprecated. Please use tf.io.parse_single_example instead.\n",
      "\n",
      "WARNING:tensorflow:From e:\\ML\\net2vec\\mpnn\\graph_nn.py:216: The name tf.VarLenFeature is deprecated. Please use tf.io.VarLenFeature instead.\n",
      "\n",
      "WARNING:tensorflow:From e:\\ML\\net2vec\\mpnn\\graph_nn.py:218: The name tf.FixedLenFeature is deprecated. Please use tf.io.FixedLenFeature instead.\n",
      "\n",
      "WARNING:tensorflow:From e:\\ML\\net2vec\\mpnn\\graph_nn.py:224: The name tf.sparse_tensor_to_dense is deprecated. Please use tf.sparse.to_dense instead.\n",
      "\n",
      "WARNING:tensorflow:\n",
      "The TensorFlow contrib module will not be included in TensorFlow 2.0.\n",
      "For more information, please see:\n",
      "  * https://github.com/tensorflow/community/blob/master/rfcs/20180907-contrib-sunset.md\n",
      "  * https://github.com/tensorflow/addons\n",
      "  * https://github.com/tensorflow/io (for I/O related ops)\n",
      "If you depend on functionality not listed there, please file an issue.\n",
      "\n",
      "WARNING:tensorflow:From e:\\ML\\net2vec\\mpnn\\graph_nn.py:58: dense (from tensorflow.python.layers.core) is deprecated and will be removed in a future version.\n",
      "Instructions for updating:\n",
      "Use keras.layers.Dense instead.\n",
      "WARNING:tensorflow:From e:\\ML\\net2vec\\venv\\lib\\site-packages\\tensorflow_core\\python\\layers\\core.py:187: Layer.apply (from tensorflow.python.keras.engine.base_layer) is deprecated and will be removed in a future version.\n",
      "Instructions for updating:\n",
      "Please use `layer.__call__` method instead.\n",
      "WARNING:tensorflow:From e:\\ML\\net2vec\\venv\\lib\\site-packages\\tensorflow_core\\python\\util\\dispatch.py:180: calling expand_dims (from tensorflow.python.ops.array_ops) with dim is deprecated and will be removed in a future version.\n",
      "Instructions for updating:\n",
      "Use the `axis` argument instead\n",
      "WARNING:tensorflow:From e:\\ML\\net2vec\\mpnn\\graph_nn.py:182: The name tf.unsorted_segment_sum is deprecated. Please use tf.math.unsorted_segment_sum instead.\n",
      "\n",
      "WARNING:tensorflow:From e:\\ML\\net2vec\\mpnn\\graph_nn.py:105: The name tf.get_variable is deprecated. Please use tf.compat.v1.get_variable instead.\n",
      "\n",
      "WARNING:tensorflow:From C:\\Users\\PC\\AppData\\Local\\Temp\\ipykernel_7924\\2267578113.py:9: batch_normalization (from tensorflow.python.layers.normalization) is deprecated and will be removed in a future version.\n",
      "Instructions for updating:\n",
      "Use keras.layers.BatchNormalization instead.  In particular, `tf.control_dependencies(tf.GraphKeys.UPDATE_OPS)` should not be used (consult the `tf.keras.layers.batch_normalization` documentation).\n",
      "WARNING:tensorflow:From C:\\Users\\PC\\AppData\\Local\\Temp\\ipykernel_7924\\2267578113.py:11: The name tf.losses.mean_squared_error is deprecated. Please use tf.compat.v1.losses.mean_squared_error instead.\n",
      "\n",
      "WARNING:tensorflow:From e:\\ML\\net2vec\\venv\\lib\\site-packages\\tensorflow_core\\python\\ops\\losses\\losses_impl.py:121: where (from tensorflow.python.ops.array_ops) is deprecated and will be removed in a future version.\n",
      "Instructions for updating:\n",
      "Use tf.where in 2.0, which has the same broadcast rule as np.where\n",
      "WARNING:tensorflow:From C:\\Users\\PC\\AppData\\Local\\Temp\\ipykernel_7924\\2267578113.py:13: The name tf.train.Saver is deprecated. Please use tf.compat.v1.train.Saver instead.\n",
      "\n",
      "WARNING:tensorflow:From C:\\Users\\PC\\AppData\\Local\\Temp\\ipykernel_7924\\2267578113.py:13: The name tf.trainable_variables is deprecated. Please use tf.compat.v1.trainable_variables instead.\n",
      "\n"
     ]
    }
   ],
   "source": [
    "g=tf.Graph()\n",
    "\n",
    "\n",
    "with g.as_default():\n",
    "    global_step = tf.train.get_or_create_global_step()\n",
    "    with tf.variable_scope('model'):\n",
    "        serialized_batch = make_set()\n",
    "        batch, labels = gnn.make_batch(serialized_batch)\n",
    "        n_batch = tf.layers.batch_normalization(batch) \n",
    "        predictions = gnn.inference(n_batch)\n",
    "    loss= tf.losses.mean_squared_error(labels,predictions)        \n",
    "    \n",
    "    saver = tf.train.Saver(tf.trainable_variables() + [global_step])\n"
   ]
  },
  {
   "cell_type": "code",
   "execution_count": 10,
   "id": "88c99e67",
   "metadata": {
    "tags": []
   },
   "outputs": [
    {
     "name": "stdout",
     "output_type": "stream",
     "text": [
      "WARNING:tensorflow:From C:\\Users\\PC\\AppData\\Local\\Temp\\ipykernel_7924\\3541118490.py:1: The name tf.Session is deprecated. Please use tf.compat.v1.Session instead.\n",
      "\n",
      "WARNING:tensorflow:From C:\\Users\\PC\\AppData\\Local\\Temp\\ipykernel_7924\\3541118490.py:2: The name tf.local_variables_initializer is deprecated. Please use tf.compat.v1.local_variables_initializer instead.\n",
      "\n",
      "WARNING:tensorflow:From C:\\Users\\PC\\AppData\\Local\\Temp\\ipykernel_7924\\3541118490.py:3: The name tf.global_variables_initializer is deprecated. Please use tf.compat.v1.global_variables_initializer instead.\n",
      "\n",
      "Loading checkpint: log\\model.ckpt-100000\n",
      "WARNING:tensorflow:From C:\\Users\\PC\\AppData\\Local\\Temp\\ipykernel_7924\\3541118490.py:7: The name tf.logging.info is deprecated. Please use tf.compat.v1.logging.info instead.\n",
      "\n",
      "INFO:tensorflow:Loading checkpint: log\\model.ckpt-100000\n",
      "INFO:tensorflow:Restoring parameters from log\\model.ckpt-100000\n",
      "(1024, 1)\n",
      "2024-06-19 16:37:21.486913 step: 100000 mse: 0.012023971416056156 R**2: 0.48056334257125854 Pearson: 0.9655107417093385\n"
     ]
    },
    {
     "data": {
      "image/png": "[encoded data removed]",
      "text/plain": [
       "<Figure size 640x480 with 1 Axes>"
      ]
     },
     "metadata": {},
     "output_type": "display_data"
    },
    {
     "data": {
      "image/png": "[encoded data removed]",
      "text/plain": [
       "<Figure size 640x480 with 1 Axes>"
      ]
     },
     "metadata": {},
     "output_type": "display_data"
    }
   ],
   "source": [
    "with tf.Session(graph=g) as ses:\n",
    "    ses.run(tf.local_variables_initializer())\n",
    "    ses.run(tf.global_variables_initializer())\n",
    "    ckpt=tf.train.latest_checkpoint(args.log_dir)\n",
    "    if ckpt:\n",
    "        print(\"Loading checkpint: %s\" % (ckpt))\n",
    "        tf.logging.info(\"Loading checkpint: %s\" % (ckpt))\n",
    "        saver.restore(ses, ckpt)\n",
    "    \n",
    "    label_py=[]\n",
    "    predictions_py=[]\n",
    "    for i in range(16):\n",
    "        val_label_py, val_predictions_py, step = ses.run( [labels,predictions, global_step] )\n",
    "        label_py.append(val_label_py)\n",
    "        predictions_py.append(val_predictions_py)\n",
    "    label_py = np.concatenate(label_py,axis=0)\n",
    "    predictions_py = np.concatenate(predictions_py,axis=0)\n",
    "    print(label_py.shape)\n",
    "    print('{} step: {} mse: {} R**2: {} Pearson: {}'.format(\n",
    "        str(datetime.datetime.now()),\n",
    "        step,\n",
    "        np.mean((label_py-predictions_py)**2),\n",
    "        #np.max(np.abs(test_error)),\n",
    "        gnn.fitquality(label_py,predictions_py),\n",
    "        np.corrcoef(label_py,predictions_py, rowvar=False)[0,1] ), flush=True ) \n",
    "    plt.figure()\n",
    "    plt.plot(label_py,predictions_py,'.')\n",
    "    gnn.line_1(label_py, label_py)\n",
    "    plt.grid('on')\n",
    "    plt.xlabel('Label')\n",
    "    plt.ylabel('Prediction')\n",
    "    plt.title('Evaluation at step {}'.format(step))\n",
    "    fig_path = os.path.join(args.log_dir,'eval-{0:08}.png'.format(step) )\n",
    "    fig_path = 'eval.pdf'.format(step)\n",
    "    plt.show()\n",
    "    plt.close()\n",
    "    plt.figure()\n",
    "    plt.hist(label_py-predictions_py, 50)\n",
    "    fig_path = 'rez_hist.pdf'\n",
    "    plt.show()\n",
    "    plt.close()"
   ]
  },
  {
   "cell_type": "markdown",
   "id": "b68edda0",
   "metadata": {},
   "source": [
    " ## Message passing\n",
    "W grafowych sieciach neuronowych GNN. Celem modelu jest przyjęcie reprezentacji grafu przechowującej informacje o pojedynczych wierzchołkach (i/lub krawędziach) a następnie wyprodukowanie reprezentacji umożliwiającej odczytanie kontekstu tego wierzchołka (i/lub krawędzi) w grafie poprzez utworzenie odpowiedniego zanurzenia (embedding).\n",
    "\n",
    "![image](images/node_edge_embeddings.png)\n",
    "\n",
    "Proces otrzymywania tego zanurzenia odbywa się przez algorytm tzw. \"message passing\"  gdzie odpowiednia funkcja  update  na danym wierzchołku używa informacji o zanurzeniach bezpośrednich sąsiadów wierzchołka oraz stanu zanurzenia bierzącego wierzchołka do wyliczenia nowej wartości zanurzenia\n",
    "![image](images/message_passing.png) "
   ]
  },
  {
   "cell_type": "markdown",
   "id": "6886eceb",
   "metadata": {},
   "source": [
    "## Message\n",
    "W naszej wersji programu zmodyfikowaliśmy zawartość zanurzenia węzła by poza domyślnymi wartościami związanymi z teorią kolejkowania i opisującą ruch na węzłach, posiadała ona flagę charakteryzującą jeden określony węzeł. Ta flaga jest ustawiona na 1 jeżeli węzeł jest węzłem na którym badamy opóźnienie w sieci oraz zero w każdym innym przypadku."
   ]
  },
  {
   "cell_type": "code",
   "execution_count": null,
   "id": "bc5e4d27-cbc1-462d-ae0d-44076c18c611",
   "metadata": {},
   "outputs": [],
   "source": [
    "def graph_features(x,e,first,second, flag):\n",
    "    global REUSE\n",
    "\n",
    "    flag = tf.expand_dims(flag, axis = 1)\n",
    "    \n",
    "    h=tf.pad(x,[[0,0],[0,N_PAD-1]])\n",
    "    h = tf.concat([h, flag], axis = 1)\n",
    "    c = tf.zeros((N_H,)) # used only in LSTM\n",
    "\n",
    "    #bs = tf.shape(x)[0]\n",
    "    #h=tf.random_gamma((bs,N_H),2,2)\n",
    "    #initializer =tf.truncated_normal_initializer(0.0, 0.2)\n",
    "    initializer =tf.contrib.layers.xavier_initializer()\n",
    "    for i in range(N_PAS):\n",
    "        with tf.variable_scope('features',\n",
    "        reuse=REUSE, \n",
    "        initializer=initializer,\n",
    "        #regularizer=tf.contrib.layers.l2_regularizer(0.00000000001)\n",
    "        ) as scope:\n",
    "            to_stack=[\n",
    "                #tf.gather(x,first),\n",
    "                tf.gather(h,first),\n",
    "                e,\n",
    "                tf.gather(h,second),\n",
    "                #tf.gather(x,second),\n",
    "            ]\n",
    "            \n",
    "            m=M(tf.gather(h,first),e)\n",
    "            #Suma wplywajacych do wezla\n",
    "            #czemu to dziala ?\n",
    "            #m = tf.segment_sum(m,first) \n",
    "            #TODO wyjasnic\n",
    "            #TODO num_segments jako cecha\n",
    "            \n",
    "            num_segments=tf.cast(tf.reduce_max(second)+1,tf.int32)\n",
    "            m = tf.unsorted_segment_sum(m,second,num_segments)\n",
    "            h, c = U(h, m, x, flag, c)\n",
    "\n",
    "            REUSE=True\n",
    "        \n",
    "\n",
    "    return R(h,x)"
   ]
  },
  {
   "cell_type": "code",
   "execution_count": null,
   "id": "a57003bc-b098-4c54-9710-7fd8e31cf3b7",
   "metadata": {},
   "outputs": [],
   "source": [
    "def make_batch(serialized_batch):\n",
    "    bs = tf.shape(serialized_batch)[0]\n",
    "\n",
    "    to=tf.TensorArray(tf.float32,size=bs)\n",
    "    labelto=tf.TensorArray(tf.float32,size=bs)\n",
    "\n",
    "    condition = lambda i,a1,a2: i < bs\n",
    "    def body(i,to,lto):\n",
    "        with tf.device(\"/cpu:0\"):\n",
    "            #Wypakowanie przykladu1\n",
    "            with tf.name_scope('load'):    \n",
    "                features = tf.parse_single_example(\n",
    "                serialized_batch[i],\n",
    "                features={\n",
    "                    'mu': tf.VarLenFeature(tf.float32),\n",
    "                    \"Lambda\": tf.VarLenFeature( tf.float32),\n",
    "                    \"W\":tf.FixedLenFeature([],tf.float32),\n",
    "                    \"R\":tf.VarLenFeature(tf.float32),\n",
    "                    \"first\":tf.VarLenFeature(tf.int64),\n",
    "                    \"second\":tf.VarLenFeature(tf.int64),\n",
    "                    \"flag\": tf.VarLenFeature(tf.float32)})\n",
    "\n",
    "                ar=[(tf.sparse_tensor_to_dense(features['mu'])-args.mu_shift)/args.mu_scale,\n",
    "                        (tf.sparse_tensor_to_dense(features['Lambda']))]\n",
    "                x=tf.stack(ar,axis=1)\n",
    "\n",
    "                e=tf.sparse_tensor_to_dense(features['R'])\n",
    "                # cecha jest od 0-1\n",
    "                #e = (tf.expand_dims(e,axis=1)-0.24)/0.09\n",
    "                e = tf.expand_dims(e,axis=1)\n",
    "\n",
    "                first=tf.sparse_tensor_to_dense(features['first'])\n",
    "                second=tf.sparse_tensor_to_dense(features['second'])\n",
    "                flag = tf.sparse_tensor_to_dense(features['flag'])\n",
    "            \n",
    "        g_feature = graph_features(x,e,first,second, flag) \n",
    "        W = (features['W']-args.W_shift)/args.W_scale # 0.7-0.9\n",
    "\n",
    "        return i+1,to.write(i,g_feature ),lto.write(i,W)\n",
    "    \n",
    "    with tf.control_dependencies([serialized_batch]):\n",
    "        _,batch,labelst = tf.while_loop(condition,body,[tf.constant(0),to,labelto])\n",
    "        batch = batch.stack()\n",
    "        labels = labelst.stack()\n",
    "        labels = tf.reshape(labels,[bs,1])\n",
    "    return batch, labels\n"
   ]
  },
  {
   "cell_type": "markdown",
   "id": "e1cd5bf5",
   "metadata": {},
   "source": [
    "update"
   ]
  },
  {
   "cell_type": "markdown",
   "id": "defe2246",
   "metadata": {},
   "source": [
    "# Rodzaje rekurencyjnych sieci neuronowych(RNN)\n",
    "\n",
    "## Prosta sieć neuronowa (Vanilla)\n",
    "![image](images/rnn_diagram.webp)  \n",
    "*Praveen Raj, Medium.com*\n",
    "\n",
    "* Najprostsze obliczeniowo podejście\n",
    "* Stosowanie **backpropagation** analogiczne jak w klasycznych sieciach neuronowych\n",
    "* Podatne na **exploding gradient** i **vanishing gradient**\n",
    "    * 1,1^50 ~= 117\n",
    "    * 0,9^50 ~= 0,005"
   ]
  },
  {
   "cell_type": "code",
   "execution_count": null,
   "id": "34efbc06",
   "metadata": {},
   "outputs": [],
   "source": [
    "N_H = args.pad + 2\n",
    "\n",
    "def U_RNN(h, m, x, flag, c):\n",
    "        with tf.variable_scope('update'):\n",
    "            # na wejście warstwy wchodzi suma stanu ukrytego (h) i wiadomości (m)\n",
    "            hm = h + m\n",
    "            # ustawienie ostatinego elementu tensora na warość flagi identyfikującej wierzchołek\n",
    "            hm = tf.concat([hm[:, :-1], flag], axis = 1)\n",
    "            # pojedynczy perceptron z aktywacją ReLU\n",
    "            u = tf.layers.dense(hm, N_H, activation = tf.nn.relu)\n",
    "            # nowy stan ukryty (u) - update\n",
    "            return u, c"
   ]
  },
  {
   "cell_type": "markdown",
   "id": "0ae6e56d",
   "metadata": {},
   "source": [
    "## Long short-term memory (LSTM)\n",
    "\n",
    "![image](images/LSTM_Cell.svg.png)  \n",
    "*Wikimedia Commons*\n",
    "\n",
    "* Dobrze radzi sobie z długofalowymi (wiele kroków) relacjami\n",
    "* Złagodzenie problemu vaniching gradient\n",
    "* Istnieją warianty dwukierunkowe, przydatne w problemach w których można wnioskować z poprzednich i następujących danych\n",
    "* Duża ilość prametrów i operacji\n",
    "    * wymaga więcej mocy obliczeniowej\n",
    "    * podatne na overfitting\n",
    "* Trudność w interpretacji"
   ]
  },
  {
   "cell_type": "code",
   "execution_count": null,
   "id": "982e71d8",
   "metadata": {},
   "outputs": [],
   "source": [
    "def U_LSTM(h, m, x, flag, c):\n",
    "        with tf.variable_scope('update'):\n",
    "            bf = tf.get_variable(name='bf', shape=(N_H,), dtype=tf.float32)\n",
    "            wf = tf.get_variable(name='wf', shape=(N_H, N_H), dtype=tf.float32)\n",
    "            uf = tf.get_variable(name='uf', shape=(N_H, N_H), dtype=tf.float32)\n",
    "            bi = tf.get_variable(name='bi', shape=(N_H,), dtype=tf.float32)\n",
    "            wi = tf.get_variable(name='wi', shape=(N_H, N_H), dtype=tf.float32)\n",
    "            ui = tf.get_variable(name='ui', shape=(N_H, N_H), dtype=tf.float32)\n",
    "            bo = tf.get_variable(name='bo', shape=(N_H,), dtype=tf.float32)\n",
    "            wo = tf.get_variable(name='wo', shape=(N_H, N_H), dtype=tf.float32)\n",
    "            uo = tf.get_variable(name='uo', shape=(N_H, N_H), dtype=tf.float32)\n",
    "            bc = tf.get_variable(name='bc', shape=(N_H,), dtype=tf.float32)\n",
    "            wc = tf.get_variable(name='wc', shape=(N_H, N_H), dtype=tf.float32)\n",
    "            uc = tf.get_variable(name='uc', shape=(N_H, N_H), dtype=tf.float32)\n",
    "\n",
    "            # ustawienie ostatinego elementu tensora na warość flagi identyfikującej wierzchołek\n",
    "            h = tf.concat([h[:, :-1], flag], axis = 1)\n",
    "\n",
    "            # forget gate\n",
    "            ft = tf.nn.sigmoid(tf.matmul(m, wf) + tf.matmul(h, uf) + bf)\n",
    "            # input gate\n",
    "            it = tf.nn.sigmoid(tf.matmul(m, wi) + tf.matmul(h, ui) + bi)\n",
    "            # output gate\n",
    "            ot = tf.nn.sigmoid(tf.matmul(m, wo) + tf.matmul(h, uo) + bo)\n",
    "            # potencjalny kandydat (c~)\n",
    "            c_tylda = tf.nn.tanh(tf.matmul(m, wc) + tf.matmul(h, uc) + bc)\n",
    "            # nowy kandydat (c) - stary * forget gate + potencjalny * input gate\n",
    "            c = tf.math.multiply(ft, c) + tf.math.multiply(it, c_tylda)\n",
    "            # stan ukryty/update (u) = kandydat (c) * output gate\n",
    "            u = tf.math.multiply(ot, tf.nn.tanh(c))\n",
    "            return u, c"
   ]
  },
  {
   "cell_type": "markdown",
   "id": "20f16406",
   "metadata": {},
   "source": [
    "## Gated Reccurent Unit (GRU)\n",
    "![image](images/Gated_Recurrent_Unit,_base_type.svg.png)\n",
    "\n",
    "* mniej złożona od LSTM (3 operacje maierzowe i 1 *element-wise* do 4 operacji macierzowyc i 2 *element-wise*)\n",
    "    * szybsze uczenie modelu\n",
    "    * mniej podatne na overfitting\n",
    "* dobrze radzi sobi z problemem vanishing gradient\n",
    "* może radzić sobie gorzej z długofalowymi zależnościami\n",
    "* w wielu praktycznych zastowoniach osiąga wyniki porównywalne z LSTM, niekiedy lepsze"
   ]
  },
  {
   "cell_type": "code",
   "execution_count": null,
   "id": "ad1e0723",
   "metadata": {},
   "outputs": [],
   "source": [
    "def U_GRU(h, m, x, flag, c):\n",
    "    with tf.variable_scope('update'):\n",
    "        wz=tf.get_variable(name='wz',shape=(N_H,N_H),dtype=tf.float32)\n",
    "        uz=tf.get_variable(name='uz',shape=(N_H,N_H),dtype=tf.float32)\n",
    "        wr=tf.get_variable(name='wr',shape=(N_H,N_H),dtype=tf.float32)\n",
    "        ur=tf.get_variable(name='ur',shape=(N_H,N_H),dtype=tf.float32)\n",
    "        W=tf.get_variable(name='W',shape=(N_H,N_H),dtype=tf.float32)\n",
    "        U=tf.get_variable(name='U',shape=(N_H,N_H),dtype=tf.float32)\n",
    "\n",
    "        # ustawienie ostatinego elementu tensora na warość flagi identyfikującej wierzchołek\n",
    "        h = tf.concat([h[:, :-1], flag], axis = 1)\n",
    "        # update gate\n",
    "        z = tf.nn.sigmoid(tf.matmul(m,wz) + tf.matmul(h,uz))\n",
    "        # reset gate\n",
    "        r = tf.nn.sigmoid(tf.matmul(m,wr) + tf.matmul(h,ur))\n",
    "        # candidate hidden state (h~)\n",
    "        h_tylda = tf.nn.tanh(tf.matmul(m,W) + tf.matmul(r*h,U) )\n",
    "        # final fidden state/update (u)\n",
    "        u = (1.0-z)*h + z*h_tylda\n",
    "        return u, c"
   ]
  },
  {
   "cell_type": "markdown",
   "id": "fab0ad98",
   "metadata": {},
   "source": [
    "## Porównanie\n",
    "#### 2000 kroków\n",
    "![img](images/2k_eval.png)\n",
    "![img](images/2k_plot.png)\n",
    "#### 8000 kroków\n",
    "![img](images/8k_eval.png)\n",
    "![img](images/8k_plot.png)\n",
    "#### 20 000 kroków\n",
    "![img](images/20k_eval.png)\n",
    "![img](images/20k_plot.png)\n",
    "#### Czas ucznia dla 20000 kroków\n",
    "* RNN - 19:38\n",
    "* GRU - 29:34\n",
    "* LSTM 35:32"
   ]
  },
  {
   "cell_type": "markdown",
   "id": "227e6b7b",
   "metadata": {},
   "source": [
    "## Readout\n",
    "Funkcja readout  R(h,x)  jest odpowiedzialna za interpretację otrzymanych wyników. Przyjmuje ona zanurzenia wierzchołków grafów $h$ połączone z informacjami o wierzchołkach $\\mu$ - $\\frac{1}{\\text{czas obsługi}}$ i $\\lambda$ - średni efektywny czas przybywania (average effective arrival rate). Te informacje są wykorzystywane do wytrenowania nowej sieci neuronowej typu Multi Layer Perceptron gdzie ostateczny wynik jest liczony jako suma wartości wyjściowych.\n",
    "![image](images/GNN_readout.drawio.svg)"
   ]
  },
  {
   "cell_type": "code",
   "execution_count": null,
   "id": "668f72ae-6a07-4190-956e-14e0b34b8dc0",
   "metadata": {},
   "outputs": [],
   "source": [
    "def R(h,x):\n",
    "    with tf.variable_scope('readout'):\n",
    "        hx=tf.concat([h,x],axis=1)\n",
    "        i = tf.layers.dense(hx,args.rn,activation=tf.nn.tanh)\n",
    "        i = tf.layers.dense(i,args.rn)\n",
    "        j = tf.layers.dense(h,args.rn,activation=tf.nn.selu)\n",
    "        j = tf.layers.dense(j,args.rn)\n",
    "\n",
    "        RR = tf.nn.sigmoid(i)\n",
    "        RR = tf.multiply(RR,j)\n",
    "\n",
    "        return tf.reduce_sum(RR,axis=0)"
   ]
  },
  {
   "cell_type": "markdown",
   "id": "fef7e5e7",
   "metadata": {},
   "source": [
    "### Źródła\n",
    "-  Krzysztof Rusek and Piotr Chołda, ''Message-Passing Neural Networks Learn Little's Law'', IEEE Communications Letters, 2018\n",
    "-   Machine Learning in Networking 2024  Lectures, Piotr Chołda\n",
    "-  A. Pearce, E. Reif, B. Sanchez-Lengeling, A. B. Wiltschko;  A Gentle Introduction to Graph Neural Networks , distill.pub"
   ]
  }
 ],
 "metadata": {
  "kernelspec": {
   "display_name": "Python 3 (ipykernel)",
   "language": "python",
   "name": "python3"
  },
  "language_info": {
   "codemirror_mode": {
    "name": "ipython",
    "version": 3
   },
   "file_extension": ".py",
   "mimetype": "text/x-python",
   "name": "python",
   "nbconvert_exporter": "python",
   "pygments_lexer": "ipython3",
   "version": "3.7.9"
  }
 },
 "nbformat": 4,
 "nbformat_minor": 5
}
